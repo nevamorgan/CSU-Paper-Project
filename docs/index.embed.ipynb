{
 "cells": [
  {
   "cell_type": "markdown",
   "metadata": {},
   "source": [
    "# \n",
    "\n",
    "Mia Colangelo (Colorado State University)  \n",
    "Neva Morgan (Colorado State University)\n",
    "\n",
    "## **Title:**\n",
    "\n",
    "## **Flight in Flux:** Analyzing American Bittern (Botaurus lentiginosus) Migration Timing and Climate Change\n",
    "\n",
    "### **Introduction:**\n",
    "\n",
    "Climate change poses many questions relating to systems across the globe, especially ecological and evolutionary systems. One system which could potentially be heavily impacted is migration. Bird migration timing is critical for ensuring species survival and ecological balance. As anthropogenic climate change has altered seasonal patterns, there is a potential disruption to migration timing, impacting birds’ breeding success, food availability, and overall population health. The American Bittern (Botaurus lentiginosus), for example, depends on the thriving vegetation of marshlands for camouflage and nesting, as they are known to nest on the ground. Wetland birds are expected to be affected negatively by a considerable margin with the presence of a changing climate altering their regular migratory ranges and patterns (Steen et al., 2012).\n",
    "\n",
    "### **Abstract:**\n",
    "\n",
    "The American Bittern is a solitary, cryptic species that relies on wetlands for breeding and overwintering. Typically, these birds breed in freshwater marshes across Canada and the northern United States before migrating south to the southeastern U.S., Mexico, and Central America for the winter. However, increasing global temperatures, shifts in precipitation, and habitat loss due to climate change threaten to disrupt these migration patterns. Past studies on migratory birds indicate that climate change is leading to earlier spring arrivals, delayed fall departures, and shifts in overall migration routes (La Sorte & Thompson, 2007). For wetland-dependent birds like the American Bittern, changes in water levels due to altered precipitation cycles could further complicate their ability to find suitable stopover sites and breeding grounds. Given that wetlands are already among the most threatened ecosystems in North America, with significant losses due to urbanization and agriculture, climate-induced changes pose an additional challenge (Dahl, 2011). Studying the migration patterns of the American Bittern under a changing climate is essential for predicting future population trends and informing conservation strategies. By understanding how climate variables influence their movements, conservationists can prioritize habitat protection, restoration, and adaptive management to mitigate potential negative impacts.\n",
    "\n",
    "### **Motivation:**\n",
    "\n",
    "Bird migration range and timing is critical for ensuring species survival and ecological balance. However, climate change has altered seasonal patterns, potentially disrupting migration timing and impacting breeding success, food availability, and overall population health. Understanding these shifts can inform conservation strategies and mitigate risks to migratory bird species. Additionally, information gained from analyzing one species can be used to make inferences about the potential shifts in other similar species.\n",
    "\n",
    "### **Data:**\n",
    "\n",
    "#### Climate Data Online (NOAA Global Summary of the Month - U.S. Specific):\n",
    "\n",
    "With NOAA’s Climate Data Online search, we focused on nine weather stations located between Arizona (two weather stations: Phoenix and Kingsman), California (three weather stations: Lake Tahoe, San Diego, and Santa Rosa), Oregon (two weather stations: Chiloquin and Hermiston), and Washington (two weather stations Shelton and Spokane), to map multiple points of migratory status for the American Bittern. The files were requested through eBird, and then downloaded into a readable CSV for Excel to initially portion the data into the portions necessary for our analysis. Each weather station collected data that contained the specific information for the weather station, temperature, precipitation, and wind-related metrics (of which are negligible for our testing metrics).\n",
    "\n",
    "Variables within the Datasets contain:\n",
    "\n",
    "-   Metadata: Station name (NAME), location (LATITUDE, LONGITUDE, ELEVATION), and observation date (DATE)\n",
    "\n",
    "-   Climate Variables: Includes average and extreme temperatures (e.g., ADPT, ASLP, AWBT), precipitation statistics (e.g., DP01, DP10), and wind metrics (AWND)\n",
    "\n",
    "-   Attributes and Flags: Columns such as \\*\\_ATTRIBUTES and logical flags provide metadata on data quality and source\n",
    "\n",
    "-   Format: Character (station info and attribute flags), numeric (climate measures), and logical (indicator variables)\n",
    "\n",
    "#### American Bittern - eBird Data:\n",
    "\n",
    "This dataset was sourced from eBird and includes observations of American Bitterns (Botaurus lentiginosus) reported by citizen scientists. The dataset spans from 2000 to 2024 and includes over 70,000 observations.\n",
    "\n",
    "-   Geographic Coverage: Arizona, California, Oregon, and Washington within the U.S.\n",
    "\n",
    "-   Metadata: Observation Date Time Observations Started Latitude Longitude\n",
    "\n",
    "-   Bird Details: Observation Count Breeding Code Behavior Code\n",
    "\n",
    "-   Format: Primarily character and logical columns, with a few numeric fields (e.g., coordinates, observer count)\n",
    "\n",
    "### **Methods**\n",
    "\n",
    "To examine the effects climate change will have on the migratory timing of the American Bittern, we used a monthly summary of climate data from nine recorded NOAA weather stations within Arizona, California, Oregon, and Washington and observational data of their abundance within those states from eBird.\n",
    "\n",
    "#### Data Acquiring:\n",
    "\n",
    "Climate data within nine weather stations stretched between Arizona, California, Oregon, and Washington by NOAA Global Monthly Summaries, were recorded on a scale between 1947-2025. By using ‘R’ resources, we cleaned this data, removing unnecessary attributes for our study, converting units to be consistent throughout each dataset, and removing unnecessary data from past years to focus on data between 2000-2024.\n",
    "\n",
    "#### Data Processing / Seasonal Aggregation:\n",
    "\n",
    "Each weather station recorded the seasonal averages of temperature and precipitation, which were then manipulated into a cleaned version of that data, removing unnecessary wind records. With that, we created a list item, using ‘RStudio’, that combined the contents of the dataframes, to join them all together, ensuring columns and the contents of the dataframes are not duplicated or N/Aed. We then integrated a seasonal component into the data denoted by month: Winter = 12 (Dec.), 1 (Jan.), 2 (Feb.); Spring = 3 (Mar.), 4 (Apr.), 5 (May); Summer = 6 (Jun.), 7 (Jul.), 8 (Aug.); and Fall = 9 (Sep.), 10 (Oct.), 11 (Nov.). The seasonal component was also applied to the American Bittern migration dataframe, which was later converted to a tibble for later analysis.\n",
    "\n",
    "#### Migratory Timing Analysis of American Bittern:\n",
    "\n",
    "Observational data was provided to understand the timing of Bitterns within our four selected states, by grouping month and year to understand temporal patterns of their appearance based on the seasonal presence. Using a time series visualization to detect changes within the migratory patterns based on their seasonality between 2000-2024.\n",
    "\n",
    "#### Comparing Seasonal Trends of Climate Variability and Bittern Observation:\n",
    "\n",
    "To understand the correlation between seasonal changes for all the weather stations, we averaged the temperature and precipitation of each month per year. We then evaluated the long-term changes in bittern observation from plot layouts used before, by visually plotting the changes in the presence of climate seasonality.\n",
    "\n",
    "#### Coding Methods:\n",
    "\n",
    "Beginning Mumbo Jumbo Libraries:"
   ],
   "id": "e1ac376a-803f-444d-9d0b-1ea7a0c25d62"
  },
  {
   "cell_type": "code",
   "execution_count": null,
   "metadata": {},
   "outputs": [
    {
     "output_type": "stream",
     "name": "stderr",
     "text": [
      "Warning: package 'readr' was built under R version 4.4.3"
     ]
    },
    {
     "output_type": "stream",
     "name": "stderr",
     "text": [
      "Warning: package 'flextable' was built under R version 4.4.3"
     ]
    },
    {
     "output_type": "stream",
     "name": "stderr",
     "text": [
      "Warning: package 'tidyverse' was built under R version 4.4.3"
     ]
    },
    {
     "output_type": "stream",
     "name": "stderr",
     "text": [
      "Warning: package 'ggplot2' was built under R version 4.4.3"
     ]
    },
    {
     "output_type": "stream",
     "name": "stderr",
     "text": [
      "Warning: package 'tidyr' was built under R version 4.4.3"
     ]
    },
    {
     "output_type": "stream",
     "name": "stderr",
     "text": [
      "Warning: package 'purrr' was built under R version 4.4.3"
     ]
    },
    {
     "output_type": "stream",
     "name": "stderr",
     "text": [
      "Warning: package 'dplyr' was built under R version 4.4.3"
     ]
    },
    {
     "output_type": "stream",
     "name": "stderr",
     "text": [
      "Warning: package 'lubridate' was built under R version 4.4.3"
     ]
    },
    {
     "output_type": "stream",
     "name": "stderr",
     "text": [
      "── Attaching core tidyverse packages ──────────────────────── tidyverse 2.0.0 ──\n",
      "✔ dplyr     1.1.4     ✔ purrr     1.0.4\n",
      "✔ forcats   1.0.0     ✔ stringr   1.5.1\n",
      "✔ ggplot2   3.5.2     ✔ tibble    3.2.1\n",
      "✔ lubridate 1.9.4     ✔ tidyr     1.3.1\n",
      "── Conflicts ────────────────────────────────────────── tidyverse_conflicts() ──\n",
      "✖ purrr::compose() masks flextable::compose()\n",
      "✖ dplyr::filter()  masks stats::filter()\n",
      "✖ dplyr::lag()     masks stats::lag()\n",
      "ℹ Use the conflicted package (<http://conflicted.r-lib.org/>) to force all conflicts to become errors"
     ]
    },
    {
     "output_type": "stream",
     "name": "stderr",
     "text": [
      "Warning: package 'tidymodels' was built under R version 4.4.3"
     ]
    },
    {
     "output_type": "stream",
     "name": "stderr",
     "text": [
      "── Attaching packages ────────────────────────────────────── tidymodels 1.3.0 ──\n",
      "✔ broom        1.0.8     ✔ rsample      1.3.0\n",
      "✔ dials        1.4.0     ✔ tune         1.3.0\n",
      "✔ infer        1.0.8     ✔ workflows    1.2.0\n",
      "✔ modeldata    1.4.0     ✔ workflowsets 1.1.0\n",
      "✔ parsnip      1.3.1     ✔ yardstick    1.3.2\n",
      "✔ recipes      1.3.0     "
     ]
    },
    {
     "output_type": "stream",
     "name": "stderr",
     "text": [
      "Warning: package 'broom' was built under R version 4.4.3"
     ]
    },
    {
     "output_type": "stream",
     "name": "stderr",
     "text": [
      "Warning: package 'dials' was built under R version 4.4.3"
     ]
    },
    {
     "output_type": "stream",
     "name": "stderr",
     "text": [
      "Warning: package 'infer' was built under R version 4.4.3"
     ]
    },
    {
     "output_type": "stream",
     "name": "stderr",
     "text": [
      "Warning: package 'parsnip' was built under R version 4.4.3"
     ]
    },
    {
     "output_type": "stream",
     "name": "stderr",
     "text": [
      "Warning: package 'recipes' was built under R version 4.4.3"
     ]
    },
    {
     "output_type": "stream",
     "name": "stderr",
     "text": [
      "Warning: package 'rsample' was built under R version 4.4.3"
     ]
    },
    {
     "output_type": "stream",
     "name": "stderr",
     "text": [
      "Warning: package 'tune' was built under R version 4.4.3"
     ]
    },
    {
     "output_type": "stream",
     "name": "stderr",
     "text": [
      "Warning: package 'workflows' was built under R version 4.4.3"
     ]
    },
    {
     "output_type": "stream",
     "name": "stderr",
     "text": [
      "Warning: package 'yardstick' was built under R version 4.4.3"
     ]
    },
    {
     "output_type": "stream",
     "name": "stderr",
     "text": [
      "── Conflicts ───────────────────────────────────────── tidymodels_conflicts() ──\n",
      "✖ purrr::compose()  masks flextable::compose()\n",
      "✖ scales::discard() masks purrr::discard()\n",
      "✖ dplyr::filter()   masks stats::filter()\n",
      "✖ recipes::fixed()  masks stringr::fixed()\n",
      "✖ dplyr::lag()      masks stats::lag()\n",
      "✖ yardstick::spec() masks readr::spec()\n",
      "✖ recipes::step()   masks stats::step()"
     ]
    },
    {
     "output_type": "stream",
     "name": "stderr",
     "text": [
      "Warning: package 'gridExtra' was built under R version 4.4.3"
     ]
    },
    {
     "output_type": "stream",
     "name": "stderr",
     "text": [
      "\n",
      "Attaching package: 'gridExtra'\n",
      "\n",
      "The following object is masked from 'package:dplyr':\n",
      "\n",
      "    combine"
     ]
    }
   ],
   "source": [
    "library(readr) "
   ],
   "id": "9960379f-4965-43e8-951d-c429f7eb5bf0"
  },
  {
   "cell_type": "markdown",
   "metadata": {},
   "source": [
    "1.  Create time period for seasons"
   ],
   "id": "845c66b0-4e4f-48a4-8b75-e71dc9e80b3b"
  },
  {
   "cell_type": "code",
   "execution_count": null,
   "metadata": {},
   "outputs": [
    {
     "output_type": "stream",
     "name": "stderr",
     "text": [
      "Rows: 345 Columns: 90\n",
      "── Column specification ────────────────────────────────────────────────────────\n",
      "Delimiter: \",\"\n",
      "chr (42): STATION, DATE, NAME, ADPT_ATTRIBUTES, ASLP_ATTRIBUTES, ASTP_ATTRIB...\n",
      "dbl (45): LATITUDE, LONGITUDE, ELEVATION, ADPT, ASLP, ASTP, AWBT, AWND, CDSD...\n",
      "lgl  (3): DYFG_ATTRIBUTES, DYHF_ATTRIBUTES, DYTS_ATTRIBUTES\n",
      "\n",
      "ℹ Use `spec()` to retrieve the full column specification for this data.\n",
      "ℹ Specify the column types or set `show_col_types = FALSE` to quiet this message."
     ]
    },
    {
     "output_type": "stream",
     "name": "stderr",
     "text": [
      "Rows: 319 Columns: 82\n",
      "── Column specification ────────────────────────────────────────────────────────\n",
      "Delimiter: \",\"\n",
      "chr (38): STATION, DATE, NAME, AWND_ATTRIBUTES, CDSD_ATTRIBUTES, CLDD_ATTRIB...\n",
      "dbl (41): LATITUDE, LONGITUDE, ELEVATION, AWND, CDSD, CLDD, DP01, DP10, DP1X...\n",
      "lgl  (3): DYFG_ATTRIBUTES, DYHF_ATTRIBUTES, DYTS_ATTRIBUTES\n",
      "\n",
      "ℹ Use `spec()` to retrieve the full column specification for this data.\n",
      "ℹ Specify the column types or set `show_col_types = FALSE` to quiet this message."
     ]
    },
    {
     "output_type": "stream",
     "name": "stderr",
     "text": [
      "Rows: 657 Columns: 96\n",
      "── Column specification ────────────────────────────────────────────────────────\n",
      "Delimiter: \",\"\n",
      "chr (45): STATION, DATE, NAME, ADPT_ATTRIBUTES, ASLP_ATTRIBUTES, ASTP_ATTRIB...\n",
      "dbl (48): LATITUDE, LONGITUDE, ELEVATION, ADPT, ASLP, ASTP, AWBT, AWND, CDSD...\n",
      "lgl  (3): DYFG_ATTRIBUTES, DYHF_ATTRIBUTES, DYTS_ATTRIBUTES\n",
      "\n",
      "ℹ Use `spec()` to retrieve the full column specification for this data.\n",
      "ℹ Specify the column types or set `show_col_types = FALSE` to quiet this message."
     ]
    },
    {
     "output_type": "stream",
     "name": "stderr",
     "text": [
      "Rows: 849 Columns: 84\n",
      "── Column specification ────────────────────────────────────────────────────────\n",
      "Delimiter: \",\"\n",
      "chr (39): STATION, DATE, NAME, AWND_ATTRIBUTES, CDSD_ATTRIBUTES, CLDD_ATTRIB...\n",
      "dbl (42): LATITUDE, LONGITUDE, ELEVATION, AWND, CDSD, CLDD, DP01, DP10, DP1X...\n",
      "lgl  (3): DYFG_ATTRIBUTES, DYHF_ATTRIBUTES, DYTS_ATTRIBUTES\n",
      "\n",
      "ℹ Use `spec()` to retrieve the full column specification for this data.\n",
      "ℹ Specify the column types or set `show_col_types = FALSE` to quiet this message."
     ]
    },
    {
     "output_type": "stream",
     "name": "stderr",
     "text": [
      "Rows: 322 Columns: 96\n",
      "── Column specification ────────────────────────────────────────────────────────\n",
      "Delimiter: \",\"\n",
      "chr (45): STATION, DATE, NAME, ADPT_ATTRIBUTES, ASLP_ATTRIBUTES, ASTP_ATTRIB...\n",
      "dbl (48): LATITUDE, LONGITUDE, ELEVATION, ADPT, ASLP, ASTP, AWBT, AWND, CDSD...\n",
      "lgl  (3): DYFG_ATTRIBUTES, DYHF_ATTRIBUTES, DYTS_ATTRIBUTES\n",
      "\n",
      "ℹ Use `spec()` to retrieve the full column specification for this data.\n",
      "ℹ Specify the column types or set `show_col_types = FALSE` to quiet this message."
     ]
    },
    {
     "output_type": "stream",
     "name": "stderr",
     "text": [
      "Rows: 511 Columns: 68\n",
      "── Column specification ────────────────────────────────────────────────────────\n",
      "Delimiter: \",\"\n",
      "chr (30): STATION, DATE, NAME, CLDD_ATTRIBUTES, DP01_ATTRIBUTES, DP10_ATTRIB...\n",
      "dbl (36): LATITUDE, LONGITUDE, ELEVATION, CDSD, CDSD_ATTRIBUTES, CLDD, DP01,...\n",
      "lgl  (2): DYFG_ATTRIBUTES, DYTS_ATTRIBUTES\n",
      "\n",
      "ℹ Use `spec()` to retrieve the full column specification for this data.\n",
      "ℹ Specify the column types or set `show_col_types = FALSE` to quiet this message."
     ]
    },
    {
     "output_type": "stream",
     "name": "stderr",
     "text": [
      "Rows: 324 Columns: 82\n",
      "── Column specification ────────────────────────────────────────────────────────\n",
      "Delimiter: \",\"\n",
      "chr (38): STATION, DATE, NAME, AWND_ATTRIBUTES, CDSD_ATTRIBUTES, CLDD_ATTRIB...\n",
      "dbl (41): LATITUDE, LONGITUDE, ELEVATION, AWND, CDSD, CLDD, DP01, DP10, DP1X...\n",
      "lgl  (3): DYFG_ATTRIBUTES, DYHF_ATTRIBUTES, DYTS_ATTRIBUTES\n",
      "\n",
      "ℹ Use `spec()` to retrieve the full column specification for this data.\n",
      "ℹ Specify the column types or set `show_col_types = FALSE` to quiet this message."
     ]
    },
    {
     "output_type": "stream",
     "name": "stderr",
     "text": [
      "Rows: 321 Columns: 96\n",
      "── Column specification ────────────────────────────────────────────────────────\n",
      "Delimiter: \",\"\n",
      "chr (45): STATION, DATE, NAME, ADPT_ATTRIBUTES, ASLP_ATTRIBUTES, ASTP_ATTRIB...\n",
      "dbl (48): LATITUDE, LONGITUDE, ELEVATION, ADPT, ASLP, ASTP, AWBT, AWND, CDSD...\n",
      "lgl  (3): DYFG_ATTRIBUTES, DYHF_ATTRIBUTES, DYTS_ATTRIBUTES\n",
      "\n",
      "ℹ Use `spec()` to retrieve the full column specification for this data.\n",
      "ℹ Specify the column types or set `show_col_types = FALSE` to quiet this message."
     ]
    },
    {
     "output_type": "stream",
     "name": "stderr",
     "text": [
      "Rows: 344 Columns: 88\n",
      "── Column specification ────────────────────────────────────────────────────────\n",
      "Delimiter: \",\"\n",
      "chr (41): STATION, DATE, NAME, CLDD_ATTRIBUTES, DP01_ATTRIBUTES, DP10_ATTRIB...\n",
      "dbl (45): LATITUDE, LONGITUDE, ELEVATION, CDSD, CDSD_ATTRIBUTES, CLDD, DP01,...\n",
      "lgl  (2): DYFG_ATTRIBUTES, DYTS_ATTRIBUTES\n",
      "\n",
      "ℹ Use `spec()` to retrieve the full column specification for this data.\n",
      "ℹ Specify the column types or set `show_col_types = FALSE` to quiet this message."
     ]
    }
   ],
   "source": [
    "# Read in all climate data\n",
    "AZ_kingman <- read_csv(\"data/Climate Data/AZ-kingman-climate.csv\")"
   ],
   "id": "4951d3c8-aef3-442c-ac7f-f48c0ed7901c"
  },
  {
   "cell_type": "markdown",
   "metadata": {},
   "source": [
    "1.  BUILDING SEASONS!:"
   ],
   "id": "55ef3515-6821-40cb-a4af-2ac9786cf514"
  },
  {
   "cell_type": "code",
   "execution_count": null,
   "metadata": {},
   "outputs": [
    {
     "output_type": "stream",
     "name": "stdout",
     "text": [
      "[1] \"1996-07\" \"1996-08\" \"1996-09\" \"1996-10\" \"1996-11\" \"1996-12\""
     ]
    }
   ],
   "source": [
    "# Changing into month and year\n",
    "\n",
    "head(climate_data$DATE)"
   ],
   "id": "730e25c9-8b92-4dc7-9f8e-5039f9477bc7"
  },
  {
   "cell_type": "markdown",
   "metadata": {},
   "source": [
    "1.  Understanding the changes of average temperature and precipitation in a map!\n",
    "\n",
    "<!-- -->\n",
    "\n",
    "1.  Temperature Difference between 2000 - 2024 based on seasonality"
   ],
   "id": "e7b2c458-87af-4538-9643-0aedec0f4c62"
  },
  {
   "cell_type": "code",
   "execution_count": null,
   "metadata": {
    "layout-align": "center"
   },
   "outputs": [
    {
     "output_type": "display_data",
     "metadata": {},
     "data": {}
    }
   ],
   "source": [
    "#TEMPERATURE!!!\n",
    "\n",
    "\n",
    "#creating a separte coordination dataframe\n",
    "station_coords <- climate_data %>%\n",
    "  select(STATION, LATITUDE, LONGITUDE) %>%\n",
    "  distinct()\n",
    "\n",
    "#joining the two to relay to the map\n",
    "avg_temp_map <- avg_temp %>%\n",
    "  left_join(station_coords, by = \"STATION\")\n",
    "\n",
    "#loading the u.s. map raster file!\n",
    "us_map <- map_data(\"state\")\n",
    "\n",
    "#Creating map of avg temperature for Selected stations based on seasonality!\n",
    "\n",
    "ggplot(avg_temp_map %>% filter(season_year >= 2000 & season_year <= 2024)) +\n",
    "  geom_polygon(data = us_map, aes(x = long, y = lat, group = group),\n",
    "               fill = \"gray90\", color = \"white\") +\n",
    "  geom_point(aes(x = LONGITUDE, y = LATITUDE, color = avg_temp), size = 2) +\n",
    "  scale_color_viridis_c(option = \"plasma\", name = \"Avg Temp (°F)\") +\n",
    "  coord_fixed(1.3) +\n",
    "  facet_wrap(~season) +\n",
    "  labs(title = \"Seasonal Average Temperatures by Station (2000–2024)\",\n",
    "       x = \"\", y = \"\") +\n",
    "  theme_minimal()"
   ],
   "id": "e09f201d-83a7-44b0-861f-4ce14720541b"
  },
  {
   "cell_type": "code",
   "execution_count": null,
   "metadata": {
    "layout-align": "center"
   },
   "outputs": [],
   "source": [
    "# Let's compare first just what 2000 vs 2024 looks like!\n",
    "\n",
    "# separating 2000 and 2024\n",
    "\n",
    "avg_temp_2000 <- avg_temp_map %>% filter(season_year == 2000)\n",
    "avg_temp_2024 <- avg_temp_map %>% filter(season_year == 2024)\n",
    "\n",
    "# Create the ggplot for 2000\n",
    "temp_2000 <- ggplot(avg_temp_2000) +\n",
    "  geom_polygon(data = us_map, aes(x = long, y = lat, group = group),\n",
    "               fill = \"gray90\", color = \"white\") +\n",
    "  geom_point(aes(x = LONGITUDE, y = LATITUDE, color = avg_temp), size = 2) +\n",
    "  scale_color_viridis_c(option = \"plasma\", name = \"Avg. Temp. (°F)\") +\n",
    "  coord_fixed(1.3) +\n",
    "  facet_wrap(~season) +\n",
    "  labs(title = \"Seasonal Average Temperatures (2000)\",\n",
    "       x = \"\",\n",
    "       y = \"\")+\n",
    "  theme_minimal()"
   ],
   "id": "74c7ba9d-595c-4afb-b63f-67098dda2430"
  },
  {
   "cell_type": "code",
   "execution_count": null,
   "metadata": {
    "layout-align": "center"
   },
   "outputs": [],
   "source": [
    "# Create the ggplot for 2024\n",
    "temp_2024 <- ggplot(avg_temp_2024) +\n",
    "  geom_polygon(data = us_map, aes(x = long, y = lat, group = group),\n",
    "               fill = \"gray90\", color = \"white\") +\n",
    "  geom_point(aes(x = LONGITUDE, y = LATITUDE, color = avg_temp), size = 2) +\n",
    "  scale_color_viridis_c(option = \"plasma\", name = \"Avg. Temp. (°F)\") +\n",
    "  coord_fixed(1.3) +\n",
    "  facet_wrap(~season) +\n",
    "  labs(title = \"Seasonal Average Temperatures (2024)\",\n",
    "       x = \"\", y = \"\") +\n",
    "  theme_minimal()"
   ],
   "id": "448f2f83-edee-427d-bbef-4a8603a895f7"
  },
  {
   "cell_type": "code",
   "execution_count": null,
   "metadata": {
    "layout-align": "center"
   },
   "outputs": [
    {
     "output_type": "display_data",
     "metadata": {},
     "data": {}
    }
   ],
   "source": [
    "# Arrange them to be side by side!\n",
    "\n",
    "\n",
    "grid.arrange(temp_2000, temp_2024, ncol = 2)"
   ],
   "id": "876cdaae-116d-4080-a3be-3394208375b6"
  },
  {
   "cell_type": "markdown",
   "metadata": {},
   "source": [
    "1.  Precipitation Difference between 2000 - 2024 based on seasonality"
   ],
   "id": "0788f307-5e88-450b-adfd-54e4111b5b8b"
  },
  {
   "cell_type": "code",
   "execution_count": null,
   "metadata": {
    "layout-align": "center"
   },
   "outputs": [
    {
     "output_type": "display_data",
     "metadata": {},
     "data": {}
    }
   ],
   "source": [
    "#PRECIPITATION!!!\n",
    "\n",
    "#joining the two to relay to the map\n",
    "avg_prec_map <- avg_prec %>%\n",
    "  left_join(station_coords, by = \"STATION\")\n",
    "\n",
    "#Creating map of avg precipitation for Selected stations based on seasonality!\n",
    "\n",
    "ggplot(avg_prec_map %>% filter(season_year >= 2000 & season_year <= 2024)) +\n",
    "  geom_polygon(data = us_map, aes(x = long, y = lat, group = group),\n",
    "               fill = \"gray90\", color = \"white\") +\n",
    "  geom_point(data = avg_prec_map %>%\n",
    "               filter(season_year >= 2000 & season_year <= 2024),\n",
    "             aes(x = LONGITUDE, y = LATITUDE, color = avg_prec), size = 2) +\n",
    "  scale_color_viridis_c(option = \"plasma\", name = \"Avg. Prec. (100 μm)\") +\n",
    "  coord_fixed(1.3) +\n",
    "  facet_wrap(~season) +\n",
    "  labs(title = \"Seasonal Average Precipitation by Station (2000–2024)\",\n",
    "       x = \"\", y = \"\") +\n",
    "  theme_minimal()"
   ],
   "id": "75e68057-fd86-4119-ba42-30d8b7417aa4"
  },
  {
   "cell_type": "code",
   "execution_count": null,
   "metadata": {
    "layout-align": "center"
   },
   "outputs": [],
   "source": [
    "# Let's compare first just what 2000 vs 2024 looks like!\n",
    "\n",
    "# separating 2000 and 2024\n",
    "\n",
    "avg_prec_2000 <- avg_prec_map %>% filter(season_year == 2000)\n",
    "avg_prec_2024 <- avg_prec_map %>% filter(season_year == 2024)\n",
    "\n",
    "# Create the ggplot for 2000\n",
    "prec_2000 <- ggplot(avg_prec_2000) +\n",
    "  geom_polygon(data = us_map, aes(x = long, y = lat, group = group),\n",
    "               fill = \"gray90\", color = \"white\") +\n",
    "  geom_point(aes(x = LONGITUDE, y = LATITUDE, color = avg_prec), size = 2) +\n",
    "  scale_color_viridis_c(option = \"plasma\", name = \"Avg. Prec. (100 μm)\") +\n",
    "  coord_fixed(1.3) +\n",
    "  facet_wrap(~season) +\n",
    "  labs(title = \"Seasonal Average Precipitation (2000)\",\n",
    "       x = \"\", y = \"\") +\n",
    "  theme_minimal()"
   ],
   "id": "bafc8855-e34d-4900-9ad2-f499986eac48"
  },
  {
   "cell_type": "code",
   "execution_count": null,
   "metadata": {
    "layout-align": "center"
   },
   "outputs": [],
   "source": [
    "# Create the ggplot for 2024\n",
    "prec_2024 <- ggplot(avg_prec_2024) +\n",
    "  geom_polygon(data = us_map, aes(x = long, y = lat, group = group),\n",
    "               fill = \"gray90\", color = \"white\") +\n",
    "  geom_point(aes(x = LONGITUDE, y = LATITUDE, color = avg_prec), size = 2) +\n",
    "  scale_color_viridis_c(option = \"plasma\", name = \"Avg. Prec. (100 μm)\") +\n",
    "  coord_fixed(1.3) +\n",
    "  facet_wrap(~season) +\n",
    "  labs(title = \"Seasonal Average Precipitation (2024)\",\n",
    "       x = \"\", y = \"\") +\n",
    "  theme_minimal()"
   ],
   "id": "a9059c5a-3b4f-44bd-a1c6-d151108308f5"
  },
  {
   "cell_type": "code",
   "execution_count": null,
   "metadata": {
    "layout-align": "center"
   },
   "outputs": [
    {
     "output_type": "display_data",
     "metadata": {},
     "data": {}
    }
   ],
   "source": [
    "# Arrange them to be side by side!\n",
    "\n",
    "grid.arrange(prec_2000, prec_2024, ncol = 2)"
   ],
   "id": "0e4bbd36-24a7-4441-b571-b1f000ede42d"
  },
  {
   "cell_type": "markdown",
   "metadata": {},
   "source": [
    "1.  Bird migration pattern time!\n",
    "\n",
    "Based on eBird data, we are focusing in the Western Pacific region of the U.S. (Arizona, California, Oregon, and Washington). Based on the eBird data set variables for understanding migratory codes:"
   ],
   "id": "c5555b37-b410-4c3a-863a-b2696da6fbd0"
  },
  {
   "cell_type": "code",
   "execution_count": null,
   "metadata": {},
   "outputs": [
    {
     "output_type": "stream",
     "name": "stderr",
     "text": [
      "New names:\n",
      "• `` -> `...22`\n",
      "• `` -> `...23`\n",
      "• `` -> `...24`\n",
      "• `` -> `...25`\n",
      "• `` -> `...26`\n",
      "• `` -> `...27`\n",
      "• `` -> `...28`\n",
      "• `` -> `...29`\n",
      "• `` -> `...30`\n",
      "• `` -> `...31`\n",
      "• `` -> `...32`\n",
      "• `` -> `...33`\n",
      "• `` -> `...34`\n",
      "• `` -> `...35`\n",
      "• `` -> `...36`\n",
      "• `` -> `...37`\n",
      "• `` -> `...38`\n",
      "• `` -> `...39`\n",
      "• `` -> `...40`\n",
      "• `` -> `...41`\n",
      "• `` -> `...42`\n",
      "• `` -> `...43`\n",
      "• `` -> `...44`\n",
      "• `` -> `...45`\n",
      "• `` -> `...46`\n",
      "• `` -> `...47`\n",
      "• `` -> `...48`\n",
      "• `` -> `...49`\n",
      "• `` -> `...50`\n",
      "• `` -> `...51`\n",
      "• `` -> `...52`\n",
      "• `` -> `...53`\n",
      "• `` -> `...54`\n",
      "• `` -> `...55`"
     ]
    },
    {
     "output_type": "stream",
     "name": "stderr",
     "text": [
      "Warning: One or more parsing issues, call `problems()` on your data frame for details,\n",
      "e.g.:\n",
      "  dat <- vroom(...)\n",
      "  problems(dat)"
     ]
    },
    {
     "output_type": "stream",
     "name": "stderr",
     "text": [
      "Rows: 70649 Columns: 55\n",
      "── Column specification ────────────────────────────────────────────────────────\n",
      "Delimiter: \",\"\n",
      "chr  (20): OBSERVATION DATE, OBSERVATION COUNT, BREEDING CODE, BREEDING CATE...\n",
      "dbl   (4): BCR CODE, LATITUDE, LONGITUDE, NUMBER OBSERVERS\n",
      "lgl  (30): AGE/SEX, ...22, ...28, ...29, ...30, ...31, ...32, ...33, ...34, ...\n",
      "time  (1): TIME OBSERVATIONS STARTED\n",
      "\n",
      "ℹ Use `spec()` to retrieve the full column specification for this data.\n",
      "ℹ Specify the column types or set `show_col_types = FALSE` to quiet this message."
     ]
    }
   ],
   "source": [
    "# read in bird data:\n",
    "\n",
    "amebit_data <- read_csv(\"data/AB Data/amebit_data.csv\")"
   ],
   "id": "14379cc6-37d7-47ab-95e1-deffe609cc6b"
  },
  {
   "cell_type": "code",
   "execution_count": null,
   "metadata": {
    "layout-align": "center"
   },
   "outputs": [
    {
     "output_type": "display_data",
     "metadata": {},
     "data": {}
    }
   ],
   "source": [
    "# Visualize time:\n",
    "\n",
    "ggplot(amebit_monthly, aes(x = month, y = observations, group = year, color = as.factor(year))) +\n",
    "  geom_line(alpha = 0.5) +\n",
    "  labs(\n",
    "    title = \"Seasonal Observation Trends of American Bittern 2000 - 2024\",\n",
    "    x = \"Month\",\n",
    "    y = \"Number of Observations\",\n",
    "    color = \"Year\"\n",
    "  ) +\n",
    "  theme_minimal()"
   ],
   "id": "c8d3f662-ff3c-41c5-adf1-f4dff65e1c10"
  },
  {
   "cell_type": "markdown",
   "metadata": {},
   "source": [
    "1.  Looking at seasonal changes over time"
   ],
   "id": "e7efe1e1-1d09-4750-aa81-49ea3b7f2dd8"
  },
  {
   "cell_type": "code",
   "execution_count": null,
   "metadata": {
    "layout-align": "center"
   },
   "outputs": [
    {
     "output_type": "stream",
     "name": "stderr",
     "text": [
      "Warning: Using `size` aesthetic for lines was deprecated in ggplot2 3.4.0.\n",
      "ℹ Please use `linewidth` instead."
     ]
    },
    {
     "output_type": "display_data",
     "metadata": {},
     "data": {}
    }
   ],
   "source": [
    "seasonal_summary <- climate_data %>%\n",
    "  mutate(\n",
    "    TAVG_F = (TAVG * 9/5) + 32,       # Convert temp to Fahrenheit\n",
    "    PRCP_mm = PRCP / 10               # Convert tenths of mm to mm\n",
    "  ) %>%\n",
    "  group_by(season_year, season) %>%\n",
    "  summarize(\n",
    "    avg_temp = mean(TAVG_F, na.rm = TRUE),\n",
    "    avg_precp = mean(PRCP_mm, na.rm = TRUE),\n",
    "    .groups = \"drop\"\n",
    "  ) %>%\n",
    "  filter(season_year >= 2000, season_year <= 2024)\n",
    "\n",
    "\n",
    "# Reshaping to make plotting easier to understand shifts in Temp and Precip!\n",
    "\n",
    "long_summary <- seasonal_summary %>%\n",
    "  pivot_longer(cols = c(avg_temp, avg_precp),\n",
    "               names_to = \"variable\", values_to = \"value\")\n",
    "\n",
    "\n",
    "# Plotting:\n",
    "\n",
    "ggplot(long_summary, aes(x = season_year, y = value, color = season)) +\n",
    "  geom_line(size = 1) +\n",
    "  facet_wrap(~ variable, scales = \"free_y\", \n",
    "             labeller = as_labeller(c(avg_temp = \"Avg Temp (°F)\", avg_precp = \"Avg Precip (mm)\"))) +\n",
    "  labs(\n",
    "    title = \"Seasonal Trends in Temperature and Precipitation (2000–2024)\",\n",
    "    x = \"Year\", y = NULL\n",
    "  ) +\n",
    "  scale_color_brewer(palette = \"Set2\", name = \"Season\") +\n",
    "  theme_minimal()"
   ],
   "id": "a6559c2b-6d03-4b63-bddb-207a3d633d9f"
  },
  {
   "cell_type": "markdown",
   "metadata": {},
   "source": [
    "1.  Let’s combine them to see if there is a difference!"
   ],
   "id": "8c570530-a512-45c4-86a3-0e4e287f9bf9"
  },
  {
   "cell_type": "code",
   "execution_count": null,
   "metadata": {
    "layout-align": "center"
   },
   "outputs": [
    {
     "output_type": "stream",
     "name": "stderr",
     "text": [
      "`geom_smooth()` using formula = 'y ~ x'"
     ]
    },
    {
     "output_type": "display_data",
     "metadata": {},
     "data": {}
    }
   ],
   "source": [
    "# Adding seasonality to American Bittern data:\n",
    "\n",
    "amebit_season <- amebit_monthly %>%\n",
    "  mutate(season = case_when(\n",
    "    month %in% c(\"Dec\", \"Jan\", \"Feb\") ~ \"Winter\",\n",
    "    month %in% c(\"Mar\", \"Apr\", \"May\") ~ \"Spring\",\n",
    "    month %in% c(\"Jun\", \"Jul\", \"Aug\") ~ \"Summer\",\n",
    "    month %in% c(\"Sep\", \"Oct\", \"Nov\") ~ \"Fall\"\n",
    "  )) %>%\n",
    "  group_by(year, season) %>%\n",
    "  summarize(total_obs = sum(observations), .groups = \"drop\")\n",
    "\n",
    "\n",
    "# Merging the climate data and bittern data\n",
    "\n",
    "combined_data <- left_join(amebit_season, seasonal_summary, \n",
    "                           by = c(\"year\" = \"season_year\", \"season\"))\n",
    "\n",
    "\n",
    "# Visualize temperature seasonality and bittern data:\n",
    "\n",
    "ggplot(combined_data, aes(x = avg_temp, y = total_obs, color = season)) +\n",
    "  geom_point() +\n",
    "  geom_smooth(method = \"lm\", se = FALSE) +\n",
    "  labs(\n",
    "    title = \"Relationship Between Seasonal Temperature and Bittern Observations\",\n",
    "    x = \"Average Temperature (°F)\",\n",
    "    y = \"Bittern Observations\"\n",
    "  ) +\n",
    "  scale_color_brewer(palette = \"Set2\") +\n",
    "  theme_minimal()"
   ],
   "id": "90fe20e2-9699-477a-94df-b18370f8a22a"
  },
  {
   "cell_type": "code",
   "execution_count": null,
   "metadata": {
    "layout-align": "center"
   },
   "outputs": [
    {
     "output_type": "stream",
     "name": "stderr",
     "text": [
      "`geom_smooth()` using formula = 'y ~ x'"
     ]
    },
    {
     "output_type": "display_data",
     "metadata": {},
     "data": {}
    }
   ],
   "source": [
    "# Visualize precipitation seasonality and bittern data:\n",
    "\n",
    "ggplot(combined_data, aes(x = avg_precp, y = total_obs, color = season)) +\n",
    "  geom_point() +\n",
    "  geom_smooth(method = \"lm\", se = FALSE) +\n",
    "  labs(\n",
    "    title = \"Relationship Between Seasonal Precipitation and Bittern Observations\",\n",
    "    x = \"Average Precipitation (100 μm)\",\n",
    "    y = \"Bittern Observations\"\n",
    "  ) +\n",
    "  scale_color_brewer(palette = \"Set2\") +\n",
    "  theme_minimal()"
   ],
   "id": "53120945-4fbf-4e7c-8a0c-74dfcb596208"
  },
  {
   "cell_type": "code",
   "execution_count": null,
   "metadata": {
    "layout-align": "center"
   },
   "outputs": [
    {
     "output_type": "display_data",
     "metadata": {},
     "data": {}
    }
   ],
   "source": [
    "# Relationship between climate and bittern evolving together!\n",
    "\n",
    "combined_long <- combined_data %>%\n",
    "  pivot_longer(cols = c(avg_temp, avg_precp, total_obs),\n",
    "               names_to = \"variable\", values_to = \"value\")\n",
    "\n",
    "ggplot(combined_long, aes(x = year, y = value, color = season)) +\n",
    "  geom_line() +\n",
    "  facet_wrap(~ variable, scales = \"free_y\",\n",
    "             labeller = as_labeller(c(\n",
    "               avg_temp = \"Avg Temp (°F)\",\n",
    "               avg_precp = \"Avg Precip (mm)\",\n",
    "               total_obs = \"Bittern Observations\"\n",
    "             ))) +\n",
    "  labs(\n",
    "    title = \"Bittern Observations and Climate Trends by Season (2000–2024)\",\n",
    "    x = \"Year\", y = NULL\n",
    "  ) +\n",
    "  scale_color_brewer(palette = \"Set2\") +\n",
    "  theme_minimal()"
   ],
   "id": "d991d917-9656-42ea-af79-6def669a8dd0"
  },
  {
   "cell_type": "markdown",
   "metadata": {},
   "source": [
    "#### **Results:**\n",
    "\n",
    "Precipitation in Fall, Winter, and Spring varied greatly from year to year, and the Fall and Winter seasons show an overall increase in the past 25 years. Spring and Summer show a less dramatic decrease.\n",
    "\n",
    "All seasons but Spring showed a several degree increase in average temperature since 2000,\n",
    "\n",
    "The correlation graph displays the relationship between average seasonal temperature (°F) and the number of Bittern observations, with separate linear trends plotted for each season. The visualized data reveals distinct seasonal patterns in both temperature and observations.\n",
    "\n",
    "During Winter, average temperatures ranged from approximately 37°F to 47°F, with Bittern observations generally below 1,000. A slight positive trend was noted, suggesting a weak relationship between increasing temperature and higher observations. In Spring, temperatures were around 50°F to 58°F. Although this season had the highest overall number of Bittern observations—with some counts exceeding 2,000—there was a slight negative trend in the linear fit, indicating that the number of Bittern observations tended to decrease slightly with increasing temperature. Fall showed a moderate positive trend, with observations increasing alongside temperatures ranging from 52°F to 59°F. However, overall observations remained lower compared to Spring and Summer. Summer displayed the strongest positive trend. As temperatures increased from 67°F to 74°F, Bittern observations increased significantly. This season also showed more consistent and clustered high observations, suggesting a stronger relationship between higher temperatures and increased presence of Bitterns.\n",
    "\n",
    "#### **Discussion:**\n",
    "\n",
    "These results suggest that seasonal temperature plays a variable role in Bittern observations, likely reflecting differences in migratory behavior, breeding activity, and habitat use throughout the year.\n",
    "\n",
    "The strong positive trend in Summer may indicate that Bitterns are more active or easier to observe during warmer months, potentially due to breeding activity or greater availability of wetland habitats. Similarly, the positive trend in Fall could reflect pre-migration behavior or favorable foraging conditions as temperatures cool.\n",
    "\n",
    "The Spring season, despite having the highest individual observation counts, showed a slight negative trend. This may reflect a peak in migration or nesting activity occurring at lower spring temperatures, after which observations decline as temperatures rise.\n",
    "\n",
    "Winter observations were consistently low, which aligns with the species’ known migratory behavior—many populations leave colder regions during winter months. The weak positive correlation may suggest that in relatively milder winters, some individuals remain present or return earlier.\n",
    "\n",
    "Overall, this analysis underscores how temperature and seasonality can influence bird detection and presence. Further investigation into habitat variables, precipitation, and food availability could clarify the mechanisms behind these seasonal patterns. Understanding these relationships is especially important in the context of climate change, which may shift seasonal temperature regimes and, in turn, influence Bittern migration and habitat use.\n",
    "\n",
    "#### **References:**\n",
    "\n",
    "Status and trends of wetlands in the conterminous United States 2004 to 2009. US Department of the Interior, US Fish and Wildlife Service, Fisheries and Habitat Conservation.\n",
    "\n",
    "eBird. (2025). eBird: An online database of bird distribution and abundance \\[web application\\]. eBird, Cornell Lab of Ornithology, Ithaca, New York. Available: http://www.ebird.org. (Accessed: April 16, 2025).\n",
    "\n",
    "La Sorte, F. A., & Thompson III, F. R. (2007). Poleward shifts in winter ranges of North American birds. Ecology, 88(7), 1803-1812."
   ],
   "id": "7dee1872-a791-42fc-b5e8-98e852a1c82e"
  }
 ],
 "nbformat": 4,
 "nbformat_minor": 5,
 "metadata": {}
}
